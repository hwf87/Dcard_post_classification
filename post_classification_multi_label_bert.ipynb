{
 "cells": [
  {
   "cell_type": "markdown",
   "source": [
    "## Train Model"
   ],
   "metadata": {}
  },
  {
   "cell_type": "code",
   "execution_count": 5,
   "source": [
    "import os\n",
    "import yaml\n",
    "import numpy as np\n",
    "import pandas as pd\n",
    "from collections import Counter\n",
    "from utils import mysqlDatabase\n",
    "from myBertTools import myBertModel, myTokenizer\n",
    "from sklearn.model_selection import train_test_split"
   ],
   "outputs": [],
   "metadata": {}
  },
  {
   "cell_type": "code",
   "execution_count": 6,
   "source": [
    "def seq_padding(X, padding=0):\n",
    "    L = [len(x) for x in X]\n",
    "    ML = max(L)\n",
    "    return np.array([\n",
    "        np.concatenate([x, [padding] * (ML - len(x))]) if len(x) < ML else x for x in X\n",
    "    ])"
   ],
   "outputs": [],
   "metadata": {}
  },
  {
   "cell_type": "code",
   "execution_count": 7,
   "source": [
    "class dataPrepare:\n",
    "    def __init__(self, model_output_path, label_dic_name, sample_N, test_size, random_state):\n",
    "        self.model_output_path = model_output_path\n",
    "        self.label_dic_name = label_dic_name\n",
    "        self.sample_N = sample_N\n",
    "        self.test_size = test_size\n",
    "        self.random_state = random_state\n",
    "    def get_long_data(self, postid, type, title, excerpt, topics, result):\n",
    "        for label in topics:\n",
    "            result.append([postid, type, title, excerpt, label])\n",
    "    def regex(self, text):\n",
    "        return text.replace(\"'\", '').replace(\"[\", '').replace(\"]\", '').replace(\" \", '').split(',')\n",
    "    def get_multi_label_set(self, df):\n",
    "        # 看板名稱\n",
    "        forum_list = df.name.unique().tolist()\n",
    "        # 整理樣本數大於N的標籤名單\n",
    "        label_list = np.concatenate(df.topics.apply(self.regex).tolist())\n",
    "        df_label = pd.DataFrame.from_dict(dict(Counter(label_list)), orient='index', columns=['count']).reset_index()\n",
    "        df_label.columns = ['label', 'count']\n",
    "        df_label = df_label[(df_label['count'] >= sample_N) & (df_label['label'] != '')]\n",
    "        label_list = df_label.label.tolist()\n",
    "        # 合併看板名單、標籤名單\n",
    "        label_set = set(np.concatenate([label_list, forum_list]))\n",
    "        return label_set\n",
    "    def get_train_test_split(self, df):\n",
    "        df_t, df_v,= train_test_split(df, test_size = test_size, random_state = random_state, stratify = df.name)\n",
    "        df_t['type'] = 'train'\n",
    "        df_v['type'] = 'valid'\n",
    "        df = pd.concat([df_t, df_v], sort=True)\n",
    "        df = df.reset_index(drop=True)\n",
    "        return df\n",
    "    def save_label_dic(self, df):\n",
    "        label_list = list(df.columns)\n",
    "        label_dic = {i : label_list[i] for i in range(0, len(label_list))}\n",
    "        label_site = model_output_path + label_dic_name\n",
    "        np.save(label_site, label_dic)\n",
    "    def get_data_multi_label(self, MysqlDatabase, sql): \n",
    "        df = MysqlDatabase.select_table(sql)  \n",
    "        # split train/test data set\n",
    "        df = self.get_train_test_split(df)\n",
    "        # get multi label set\n",
    "        label_set = self.get_multi_label_set(df)\n",
    "        # label preparation\n",
    "        df.topics = df.topics.apply(self.regex)\n",
    "        df.apply(lambda x: x.topics.append(x['name']), axis=1)\n",
    "        df = df[['id', 'name', 'title', 'excerpt', 'topics', 'type']].drop_duplicates(subset = 'id')\n",
    "        df.topics = df.topics.apply(lambda x: list(set(x)))\n",
    "        df.topics = df.topics.apply(lambda x: set(x).intersection(label_set))\n",
    "        # one-hot encoding for multi label\n",
    "        result = []\n",
    "        df.apply(lambda x: self.get_long_data(x['id'], x.type, x.title, x.excerpt, x.topics, result), axis=1)\n",
    "        df = pd.DataFrame(result, columns = ['id', 'type', 'title', 'excerpt', 'label'])\n",
    "        df['text'] = df['title'] + ' ' + df['excerpt']\n",
    "        df['value'] = 1\n",
    "        df1 = pd.pivot_table(df, index=['id', 'text', 'type'], columns='label', values='value', fill_value=0)\n",
    "        # save label dic\n",
    "        self.save_label_dic(df1)\n",
    "        # final training data format\n",
    "        df = df1.reset_index(drop=False)\n",
    "        Y_df = df1.reset_index(drop=True)\n",
    "        return df, Y_df"
   ],
   "outputs": [],
   "metadata": {}
  },
  {
   "cell_type": "code",
   "execution_count": 8,
   "source": [
    "class dataGenerator:\n",
    "    def __init__(self, data, batch_size=32):\n",
    "        self.data = data\n",
    "        self.batch_size = batch_size\n",
    "        self.steps = len(self.data) // self.batch_size\n",
    "        if len(self.data) % self.batch_size != 0:\n",
    "            self.steps += 1\n",
    "    def __len__(self):\n",
    "        return self.steps\n",
    "    def __iter__(self):\n",
    "        while True:\n",
    "            idxs = list(range(len(self.data)))\n",
    "            np.random.shuffle(idxs)\n",
    "            X1, X2, Y = [], [], []\n",
    "            for i in idxs:\n",
    "                d = self.data[i]\n",
    "                text = d[0][:maxlen]\n",
    "                x1, x2 = MyTokenizer.encode(first=text)\n",
    "                y = d[1:]\n",
    "                X1.append(x1)\n",
    "                X2.append(x2)\n",
    "                Y.append(y)\n",
    "                if len(X1) == self.batch_size or i == idxs[-1]:\n",
    "                    X1 = seq_padding(X1)\n",
    "                    X2 = seq_padding(X2)\n",
    "                    Y = seq_padding(Y)\n",
    "                    yield [X1, X2], Y\n",
    "                    [X1, X2, Y] = [], [], []"
   ],
   "outputs": [],
   "metadata": {}
  },
  {
   "cell_type": "code",
   "execution_count": 9,
   "source": [
    "if __name__ == '__main__':\n",
    "    # set parameter\n",
    "    sample_N = 100\n",
    "    test_size = 0.1\n",
    "    random_state = 37\n",
    "    maxlen = 100\n",
    "    epochs_N = 3\n",
    "    os.environ['TF_KERAS'] = '1'\n",
    "    pretrained_path = '/Users/jackyfu/Desktop/hwf87_git/bert_wwm/'\n",
    "    config_path = os.path.join(pretrained_path, 'bert_config.json')\n",
    "    checkpoint_path = os.path.join(pretrained_path, 'bert_model.ckpt')\n",
    "    vocab_path = os.path.join(pretrained_path, 'vocab.txt')\n",
    "    label_dic_name = 'dcard_cate_multi_label_dic.npy'\n",
    "    model_name = 'dcard_post_multi_cls_bert.h5'\n",
    "    model_output_path = '/Users/jackyfu/Desktop/hwf87_git/Dcard_post_classification/model_output/'\n",
    "    my_forums_list = ['時事', '網路購物', '股票', '美妝', '工作', '考試', '穿搭', '3C', 'Apple', '感情', \n",
    "                      '美食', '理財', '居家生活', '臺灣大學', 'YouTuber']\n",
    "    with open('config.yml', 'r') as stream:\n",
    "        myconfig = yaml.load(stream, Loader=yaml.CLoader)\n",
    "    database_username = myconfig['mysql_database']['database_username']\n",
    "    database_password = myconfig['mysql_database']['database_password']\n",
    "    database_ip       = myconfig['mysql_database']['database_ip']\n",
    "    database_name     = myconfig['mysql_database']['database_name']\n",
    "    MysqlDatabase = mysqlDatabase(database_username, database_password, database_ip, database_name)\n",
    "    sql = '''\n",
    "    SELECT df.name, dp.*\n",
    "    FROM Bigdata.dcard_posts dp\n",
    "    left join Bigdata.dcard_forums df on dp.forumid = df.id\n",
    "    WHERE 1=1\n",
    "    and df.name in :my_forums_list\n",
    "    '''\n",
    "    sql = sql.replace(':my_forums_list', str(tuple(my_forums_list)))\n",
    "    ## prepare data format\n",
    "    DataPrepare = dataPrepare(model_output_path, label_dic_name, sample_N, test_size, random_state)\n",
    "    df, Y_df = DataPrepare.get_data_multi_label(MysqlDatabase, sql)\n",
    "    ## build model\n",
    "    MyBertModel = myBertModel(pretrained_path, config_path, checkpoint_path, vocab_path)\n",
    "    token_dict = MyBertModel.get_token_dict()\n",
    "    model = MyBertModel.build_model(Y_df)\n",
    "    MyTokenizer = myTokenizer(token_dict)\n",
    "    ## Training and save model\n",
    "    train_data = df[df['type'] == 'train'].drop(columns=['id', 'type']).values.tolist()\n",
    "    valid_data = df[df['type'] == 'valid'].drop(columns=['id', 'type']).values.tolist()\n",
    "    train_D = dataGenerator(train_data)\n",
    "    valid_D = dataGenerator(valid_data)\n",
    "\n",
    "    history = model.fit(\n",
    "        train_D.__iter__(),\n",
    "        steps_per_epoch=len(train_D),\n",
    "        epochs=epochs_N,\n",
    "        validation_data=valid_D.__iter__(),\n",
    "        validation_steps=len(valid_D)\n",
    "    )\n",
    "    model.save(model_output_path + model_name)"
   ],
   "outputs": [
    {
     "output_type": "stream",
     "name": "stdout",
     "text": [
      "Successfully select from Bigdata table\n"
     ]
    },
    {
     "output_type": "stream",
     "name": "stderr",
     "text": [
      "/var/folders/17/dsyzw2j96ggfgmrjcsnbtz700000gn/T/ipykernel_66008/152716144.py:27: SettingWithCopyWarning: \n",
      "A value is trying to be set on a copy of a slice from a DataFrame.\n",
      "Try using .loc[row_indexer,col_indexer] = value instead\n",
      "\n",
      "See the caveats in the documentation: https://pandas.pydata.org/pandas-docs/stable/user_guide/indexing.html#returning-a-view-versus-a-copy\n",
      "  df_t['type'] = 'train'\n",
      "/var/folders/17/dsyzw2j96ggfgmrjcsnbtz700000gn/T/ipykernel_66008/152716144.py:28: SettingWithCopyWarning: \n",
      "A value is trying to be set on a copy of a slice from a DataFrame.\n",
      "Try using .loc[row_indexer,col_indexer] = value instead\n",
      "\n",
      "See the caveats in the documentation: https://pandas.pydata.org/pandas-docs/stable/user_guide/indexing.html#returning-a-view-versus-a-copy\n",
      "  df_v['type'] = 'valid'\n",
      "2021-09-06 23:00:41.784848: I tensorflow/core/common_runtime/pluggable_device/pluggable_device_factory.cc:305] Could not identify NUMA node of platform GPU ID 0, defaulting to 0. Your kernel may not have been built with NUMA support.\n",
      "2021-09-06 23:00:41.784924: I tensorflow/core/common_runtime/pluggable_device/pluggable_device_factory.cc:271] Created TensorFlow device (/job:localhost/replica:0/task:0/device:GPU:0 with 0 MB memory) -> physical PluggableDevice (device: 0, name: METAL, pci bus id: <undefined>)\n"
     ]
    },
    {
     "output_type": "stream",
     "name": "stdout",
     "text": [
      "Metal device set to: Apple M1\n",
      "\n",
      "systemMemory: 16.00 GB\n",
      "maxCacheSize: 5.33 GB\n",
      "\n",
      "Model: \"model_2\"\n",
      "__________________________________________________________________________________________________\n",
      "Layer (type)                    Output Shape         Param #     Connected to                     \n",
      "==================================================================================================\n",
      "input_1 (InputLayer)            [(None, None)]       0                                            \n",
      "__________________________________________________________________________________________________\n",
      "input_2 (InputLayer)            [(None, None)]       0                                            \n",
      "__________________________________________________________________________________________________\n",
      "model_1 (Functional)            (None, None, 768)    101677056   input_1[0][0]                    \n",
      "                                                                 input_2[0][0]                    \n",
      "__________________________________________________________________________________________________\n",
      "lambda (Lambda)                 (None, 768)          0           model_1[0][0]                    \n",
      "__________________________________________________________________________________________________\n",
      "dense (Dense)                   (None, 101)          77669       lambda[0][0]                     \n",
      "==================================================================================================\n",
      "Total params: 101,754,725\n",
      "Trainable params: 101,754,725\n",
      "Non-trainable params: 0\n",
      "__________________________________________________________________________________________________\n",
      "Epoch 1/3\n"
     ]
    },
    {
     "output_type": "stream",
     "name": "stderr",
     "text": [
      "2021-09-06 23:00:44.772408: I tensorflow/compiler/mlir/mlir_graph_optimization_pass.cc:176] None of the MLIR Optimization Passes are enabled (registered 2)\n",
      "2021-09-06 23:00:44.772598: W tensorflow/core/platform/profile_utils/cpu_utils.cc:128] Failed to get CPU frequency: 0 Hz\n",
      "2021-09-06 23:00:49.136843: I tensorflow/core/grappler/optimizers/custom_graph_optimizer_registry.cc:112] Plugin optimizer for device_type GPU is enabled.\n"
     ]
    },
    {
     "output_type": "stream",
     "name": "stdout",
     "text": [
      "554/554 [==============================] - ETA: 0s - loss: 0.1046 - accuracy: 0.2885"
     ]
    },
    {
     "output_type": "stream",
     "name": "stderr",
     "text": [
      "2021-09-06 23:37:47.166231: I tensorflow/core/grappler/optimizers/custom_graph_optimizer_registry.cc:112] Plugin optimizer for device_type GPU is enabled.\n"
     ]
    },
    {
     "output_type": "stream",
     "name": "stdout",
     "text": [
      "554/554 [==============================] - 2314s 4s/step - loss: 0.1046 - accuracy: 0.2885 - val_loss: 0.0587 - val_accuracy: 0.4948\n",
      "Epoch 2/3\n",
      "554/554 [==============================] - 2953s 5s/step - loss: 0.0530 - accuracy: 0.4975 - val_loss: 0.0440 - val_accuracy: 0.5274\n",
      "Epoch 3/3\n",
      "554/554 [==============================] - 31905s 58s/step - loss: 0.0417 - accuracy: 0.5312 - val_loss: 0.0383 - val_accuracy: 0.5455\n"
     ]
    },
    {
     "output_type": "stream",
     "name": "stderr",
     "text": [
      "/Users/jackyfu/miniforge3/envs/tensorflow/lib/python3.9/site-packages/tensorflow/python/keras/utils/generic_utils.py:494: CustomMaskWarning: Custom mask layers require a config and must override get_config. When loading, the custom mask layer must be passed to the custom_objects argument.\n",
      "  warnings.warn('Custom mask layers require a config and must override '\n"
     ]
    }
   ],
   "metadata": {}
  },
  {
   "cell_type": "code",
   "execution_count": 10,
   "source": [
    "import matplotlib.pyplot as plt\n",
    "plt.title('Loss')\n",
    "plt.plot(history.history['loss'], label='train')\n",
    "plt.plot(history.history['val_loss'], label='test')\n",
    "plt.legend()\n",
    "plt.show()"
   ],
   "outputs": [
    {
     "output_type": "display_data",
     "data": {
      "image/png": "[encoded data removed]",
      "text/plain": [
       "<Figure size 432x288 with 1 Axes>"
      ]
     },
     "metadata": {
      "needs_background": "light"
     }
    }
   ],
   "metadata": {}
  },
  {
   "cell_type": "code",
   "execution_count": null,
   "source": [],
   "outputs": [],
   "metadata": {}
  },
  {
   "cell_type": "code",
   "execution_count": null,
   "source": [],
   "outputs": [],
   "metadata": {}
  }
 ],
 "metadata": {
  "orig_nbformat": 4,
  "language_info": {
   "name": "python",
   "version": "3.9.6",
   "mimetype": "text/x-python",
   "codemirror_mode": {
    "name": "ipython",
    "version": 3
   },
   "pygments_lexer": "ipython3",
   "nbconvert_exporter": "python",
   "file_extension": ".py"
  },
  "kernelspec": {
   "name": "python3",
   "display_name": "Python 3.9.6 64-bit ('tensorflow': conda)"
  },
  "interpreter": {
   "hash": "0729e0afaf4d65e2a91a3bdab3b4bf083879cf81e41f52fbed812722fa13cb93"
  }
 },
 "nbformat": 4,
 "nbformat_minor": 2
}