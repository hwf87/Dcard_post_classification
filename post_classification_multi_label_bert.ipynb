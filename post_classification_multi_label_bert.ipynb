{
 "cells": [
  {
   "cell_type": "code",
   "execution_count": 217,
   "source": [
    "import yaml\n",
    "import numpy as np\n",
    "import pandas as pd\n",
    "from collections import Counter\n",
    "from utils import mysqlDatabase\n",
    "from sklearn.model_selection import train_test_split\n",
    "with open('config.yml', 'r') as stream:\n",
    "        myconfig = yaml.load(stream, Loader=yaml.CLoader)\n",
    "database_username = myconfig['mysql_database']['database_username']\n",
    "database_password = myconfig['mysql_database']['database_password']\n",
    "database_ip       = myconfig['mysql_database']['database_ip']\n",
    "database_name     = myconfig['mysql_database']['database_name']\n",
    "MysqlDatabase = mysqlDatabase(database_username, database_password, database_ip, database_name)"
   ],
   "outputs": [],
   "metadata": {}
  },
  {
   "cell_type": "code",
   "execution_count": 218,
   "source": [
    "sql = '''\n",
    "SELECT df.name, dp.*\n",
    "FROM Bigdata.dcard_posts dp\n",
    "left join Bigdata.dcard_forums df on dp.forumid = df.id\n",
    "WHERE 1=1\n",
    "and df.name in ('時事', '網路購物', '股票', '美妝', '工作', '考試', '穿搭', '3C', 'Apple', '感情', \n",
    "                '美食', '理財', '居家生活', '臺灣大學', 'YouTuber');\n",
    "'''\n",
    "df = MysqlDatabase.select_table(sql)"
   ],
   "outputs": [
    {
     "output_type": "stream",
     "name": "stdout",
     "text": [
      "Successfully select from Bigdata table\n"
     ]
    }
   ],
   "metadata": {}
  },
  {
   "cell_type": "code",
   "execution_count": 220,
   "source": [
    "df_t, df_v,= train_test_split(df, test_size = 0.1, random_state = 42, stratify = df.name)\n",
    "df_t['type'] = 'train'\n",
    "df_v['type'] = 'valid'\n",
    "df = pd.concat([df_t, df_v], sort=True)\n",
    "df = df.reset_index(drop=True)"
   ],
   "outputs": [
    {
     "output_type": "stream",
     "name": "stderr",
     "text": [
      "/var/folders/17/dsyzw2j96ggfgmrjcsnbtz700000gn/T/ipykernel_62713/3214313076.py:2: SettingWithCopyWarning: \n",
      "A value is trying to be set on a copy of a slice from a DataFrame.\n",
      "Try using .loc[row_indexer,col_indexer] = value instead\n",
      "\n",
      "See the caveats in the documentation: https://pandas.pydata.org/pandas-docs/stable/user_guide/indexing.html#returning-a-view-versus-a-copy\n",
      "  df_t['type'] = 'train'\n",
      "/var/folders/17/dsyzw2j96ggfgmrjcsnbtz700000gn/T/ipykernel_62713/3214313076.py:3: SettingWithCopyWarning: \n",
      "A value is trying to be set on a copy of a slice from a DataFrame.\n",
      "Try using .loc[row_indexer,col_indexer] = value instead\n",
      "\n",
      "See the caveats in the documentation: https://pandas.pydata.org/pandas-docs/stable/user_guide/indexing.html#returning-a-view-versus-a-copy\n",
      "  df_v['type'] = 'valid'\n"
     ]
    }
   ],
   "metadata": {}
  },
  {
   "cell_type": "code",
   "execution_count": 224,
   "source": [
    "df.head(2)"
   ],
   "outputs": [
    {
     "output_type": "execute_result",
     "data": {
      "text/html": [
       "<div>\n",
       "<style scoped>\n",
       "    .dataframe tbody tr th:only-of-type {\n",
       "        vertical-align: middle;\n",
       "    }\n",
       "\n",
       "    .dataframe tbody tr th {\n",
       "        vertical-align: top;\n",
       "    }\n",
       "\n",
       "    .dataframe thead th {\n",
       "        text-align: right;\n",
       "    }\n",
       "</style>\n",
       "<table border=\"1\" class=\"dataframe\">\n",
       "  <thead>\n",
       "    <tr style=\"text-align: right;\">\n",
       "      <th></th>\n",
       "      <th>author</th>\n",
       "      <th>commentCount</th>\n",
       "      <th>createdAt</th>\n",
       "      <th>excerpt</th>\n",
       "      <th>forumId</th>\n",
       "      <th>gender</th>\n",
       "      <th>id</th>\n",
       "      <th>likeCount</th>\n",
       "      <th>name</th>\n",
       "      <th>title</th>\n",
       "      <th>topics</th>\n",
       "      <th>type</th>\n",
       "    </tr>\n",
       "  </thead>\n",
       "  <tbody>\n",
       "    <tr>\n",
       "      <th>0</th>\n",
       "      <td></td>\n",
       "      <td>49</td>\n",
       "      <td>2021-08-18 02:53:09</td>\n",
       "      <td>代po，今年表妹考指考 可是成績出來有點低於預期，國75英91數乙83歷85地86，他原本想...</td>\n",
       "      <td>d43f33f9-873f-46b3-9f24-38c90056b96c</td>\n",
       "      <td>M</td>\n",
       "      <td>236748676</td>\n",
       "      <td>16</td>\n",
       "      <td>考試</td>\n",
       "      <td>科系選擇 政大地政vs清大經濟</td>\n",
       "      <td>['科系', '指考', '指考放榜', '填志願', '考試']</td>\n",
       "      <td>train</td>\n",
       "    </tr>\n",
       "    <tr>\n",
       "      <th>1</th>\n",
       "      <td></td>\n",
       "      <td>8</td>\n",
       "      <td>2021-09-01 16:39:58</td>\n",
       "      <td>版上不知道有沒有人待過這個職缺，上次去面試他們是說這個職位就是按照計畫聘人，當沒計畫就可能被...</td>\n",
       "      <td>6eeeafb2-9dac-4d81-ae4b-ffecf0ad4444</td>\n",
       "      <td>F</td>\n",
       "      <td>236862595</td>\n",
       "      <td>2</td>\n",
       "      <td>工作</td>\n",
       "      <td>公家機關的計畫人員職缺</td>\n",
       "      <td>['工作', '公家機關']</td>\n",
       "      <td>train</td>\n",
       "    </tr>\n",
       "  </tbody>\n",
       "</table>\n",
       "</div>"
      ],
      "text/plain": [
       "  author  commentCount           createdAt  \\\n",
       "0                   49 2021-08-18 02:53:09   \n",
       "1                    8 2021-09-01 16:39:58   \n",
       "\n",
       "                                             excerpt  \\\n",
       "0  代po，今年表妹考指考 可是成績出來有點低於預期，國75英91數乙83歷85地86，他原本想...   \n",
       "1  版上不知道有沒有人待過這個職缺，上次去面試他們是說這個職位就是按照計畫聘人，當沒計畫就可能被...   \n",
       "\n",
       "                                forumId gender         id  likeCount name  \\\n",
       "0  d43f33f9-873f-46b3-9f24-38c90056b96c      M  236748676         16   考試   \n",
       "1  6eeeafb2-9dac-4d81-ae4b-ffecf0ad4444      F  236862595          2   工作   \n",
       "\n",
       "             title                             topics   type  \n",
       "0  科系選擇 政大地政vs清大經濟  ['科系', '指考', '指考放榜', '填志願', '考試']  train  \n",
       "1      公家機關的計畫人員職缺                     ['工作', '公家機關']  train  "
      ]
     },
     "metadata": {},
     "execution_count": 224
    }
   ],
   "metadata": {}
  },
  {
   "cell_type": "code",
   "execution_count": 225,
   "source": [
    "def regex(text):\n",
    "    return text.replace(\"'\", '').replace(\"[\", '').replace(\"]\", '').replace(\" \", '').split(',')"
   ],
   "outputs": [],
   "metadata": {}
  },
  {
   "cell_type": "code",
   "execution_count": 226,
   "source": [
    "# 看板名稱\n",
    "forum_list = df.name.unique().tolist()\n",
    "# 整理樣本數大於200的標籤名單\n",
    "label_list = np.concatenate(df.topics.apply(regex).tolist())\n",
    "df_label = pd.DataFrame.from_dict(dict(Counter(label_list)), orient='index', columns=['count']).reset_index()\n",
    "df_label.columns = ['label', 'count']\n",
    "df_label = df_label[(df_label['count'] >= 100) & (df_label['label'] != '')]\n",
    "label_list = df_label.label.tolist()\n",
    "# 合併看板名單、標籤名單\n",
    "label_set = set(np.concatenate([label_list, forum_list]))\n"
   ],
   "outputs": [],
   "metadata": {}
  },
  {
   "cell_type": "code",
   "execution_count": 227,
   "source": [
    "df.topics = df.topics.apply(regex)\n",
    "df.apply(lambda x: x.topics.append(x['name']), axis=1)\n",
    "df = df[['id', 'name', 'title', 'excerpt', 'topics', 'type']].drop_duplicates(subset = 'id')\n",
    "df.topics = df.topics.apply(lambda x: list(set(x)))\n",
    "df.topics = df.topics.apply(lambda x: set(x).intersection(label_set))\n",
    "df.head()"
   ],
   "outputs": [
    {
     "output_type": "execute_result",
     "data": {
      "text/html": [
       "<div>\n",
       "<style scoped>\n",
       "    .dataframe tbody tr th:only-of-type {\n",
       "        vertical-align: middle;\n",
       "    }\n",
       "\n",
       "    .dataframe tbody tr th {\n",
       "        vertical-align: top;\n",
       "    }\n",
       "\n",
       "    .dataframe thead th {\n",
       "        text-align: right;\n",
       "    }\n",
       "</style>\n",
       "<table border=\"1\" class=\"dataframe\">\n",
       "  <thead>\n",
       "    <tr style=\"text-align: right;\">\n",
       "      <th></th>\n",
       "      <th>id</th>\n",
       "      <th>name</th>\n",
       "      <th>title</th>\n",
       "      <th>excerpt</th>\n",
       "      <th>topics</th>\n",
       "      <th>type</th>\n",
       "    </tr>\n",
       "  </thead>\n",
       "  <tbody>\n",
       "    <tr>\n",
       "      <th>0</th>\n",
       "      <td>236748676</td>\n",
       "      <td>考試</td>\n",
       "      <td>科系選擇 政大地政vs清大經濟</td>\n",
       "      <td>代po，今年表妹考指考 可是成績出來有點低於預期，國75英91數乙83歷85地86，他原本想...</td>\n",
       "      <td>{指考, 考試}</td>\n",
       "      <td>train</td>\n",
       "    </tr>\n",
       "    <tr>\n",
       "      <th>1</th>\n",
       "      <td>236862595</td>\n",
       "      <td>工作</td>\n",
       "      <td>公家機關的計畫人員職缺</td>\n",
       "      <td>版上不知道有沒有人待過這個職缺，上次去面試他們是說這個職位就是按照計畫聘人，當沒計畫就可能被...</td>\n",
       "      <td>{工作}</td>\n",
       "      <td>train</td>\n",
       "    </tr>\n",
       "    <tr>\n",
       "      <th>2</th>\n",
       "      <td>234260246</td>\n",
       "      <td>美食</td>\n",
       "      <td>早餐就是要吃sukiya</td>\n",
       "      <td>「你好，現在用振興券消費，會送我們店的提袋唷！」真的嗎？好像很沒價值也，我心裡想著，什麼大風...</td>\n",
       "      <td>{美食, 吃貨}</td>\n",
       "      <td>train</td>\n",
       "    </tr>\n",
       "    <tr>\n",
       "      <th>3</th>\n",
       "      <td>236806788</td>\n",
       "      <td>穿搭</td>\n",
       "      <td>Dickies台灣官網是真的嗎？</td>\n",
       "      <td>我看他粉專跟ig的粉絲都超少的</td>\n",
       "      <td>{台灣, 穿搭}</td>\n",
       "      <td>train</td>\n",
       "    </tr>\n",
       "    <tr>\n",
       "      <th>4</th>\n",
       "      <td>236849649</td>\n",
       "      <td>網路購物</td>\n",
       "      <td>淘寶傢俱海運</td>\n",
       "      <td>打算9/9趁著淘寶活動 買一堆傢俱佈置房間</td>\n",
       "      <td>{網路購物, 淘寶}</td>\n",
       "      <td>train</td>\n",
       "    </tr>\n",
       "  </tbody>\n",
       "</table>\n",
       "</div>"
      ],
      "text/plain": [
       "          id  name             title  \\\n",
       "0  236748676    考試   科系選擇 政大地政vs清大經濟   \n",
       "1  236862595    工作       公家機關的計畫人員職缺   \n",
       "2  234260246    美食      早餐就是要吃sukiya   \n",
       "3  236806788    穿搭  Dickies台灣官網是真的嗎？   \n",
       "4  236849649  網路購物            淘寶傢俱海運   \n",
       "\n",
       "                                             excerpt      topics   type  \n",
       "0  代po，今年表妹考指考 可是成績出來有點低於預期，國75英91數乙83歷85地86，他原本想...    {指考, 考試}  train  \n",
       "1  版上不知道有沒有人待過這個職缺，上次去面試他們是說這個職位就是按照計畫聘人，當沒計畫就可能被...        {工作}  train  \n",
       "2  「你好，現在用振興券消費，會送我們店的提袋唷！」真的嗎？好像很沒價值也，我心裡想著，什麼大風...    {美食, 吃貨}  train  \n",
       "3                                    我看他粉專跟ig的粉絲都超少的    {台灣, 穿搭}  train  \n",
       "4                              打算9/9趁著淘寶活動 買一堆傢俱佈置房間  {網路購物, 淘寶}  train  "
      ]
     },
     "metadata": {},
     "execution_count": 227
    }
   ],
   "metadata": {}
  },
  {
   "cell_type": "code",
   "execution_count": 228,
   "source": [
    "result = []\n",
    "def get_long_data(postid, type, title, excerpt, topics):\n",
    "    for label in topics:\n",
    "        result.append([postid, type, title, excerpt, label])"
   ],
   "outputs": [],
   "metadata": {}
  },
  {
   "cell_type": "code",
   "execution_count": 229,
   "source": [
    "df.apply(lambda x: get_long_data(x['id'], x.type, x.title, x.excerpt, x.topics), axis=1)"
   ],
   "outputs": [
    {
     "output_type": "execute_result",
     "data": {
      "text/plain": [
       "0        None\n",
       "1        None\n",
       "2        None\n",
       "3        None\n",
       "4        None\n",
       "         ... \n",
       "16440    None\n",
       "16442    None\n",
       "16443    None\n",
       "16444    None\n",
       "16445    None\n",
       "Length: 16128, dtype: object"
      ]
     },
     "metadata": {},
     "execution_count": 229
    }
   ],
   "metadata": {}
  },
  {
   "cell_type": "code",
   "execution_count": 232,
   "source": [
    "df = pd.DataFrame(result, columns = ['id', 'type', 'title', 'excerpt', 'label'])\n",
    "df['value'] = 1\n",
    "df.head(2)"
   ],
   "outputs": [
    {
     "output_type": "execute_result",
     "data": {
      "text/html": [
       "<div>\n",
       "<style scoped>\n",
       "    .dataframe tbody tr th:only-of-type {\n",
       "        vertical-align: middle;\n",
       "    }\n",
       "\n",
       "    .dataframe tbody tr th {\n",
       "        vertical-align: top;\n",
       "    }\n",
       "\n",
       "    .dataframe thead th {\n",
       "        text-align: right;\n",
       "    }\n",
       "</style>\n",
       "<table border=\"1\" class=\"dataframe\">\n",
       "  <thead>\n",
       "    <tr style=\"text-align: right;\">\n",
       "      <th></th>\n",
       "      <th>id</th>\n",
       "      <th>type</th>\n",
       "      <th>title</th>\n",
       "      <th>excerpt</th>\n",
       "      <th>label</th>\n",
       "      <th>value</th>\n",
       "    </tr>\n",
       "  </thead>\n",
       "  <tbody>\n",
       "    <tr>\n",
       "      <th>0</th>\n",
       "      <td>236748676</td>\n",
       "      <td>train</td>\n",
       "      <td>科系選擇 政大地政vs清大經濟</td>\n",
       "      <td>代po，今年表妹考指考 可是成績出來有點低於預期，國75英91數乙83歷85地86，他原本想...</td>\n",
       "      <td>指考</td>\n",
       "      <td>1</td>\n",
       "    </tr>\n",
       "    <tr>\n",
       "      <th>1</th>\n",
       "      <td>236748676</td>\n",
       "      <td>train</td>\n",
       "      <td>科系選擇 政大地政vs清大經濟</td>\n",
       "      <td>代po，今年表妹考指考 可是成績出來有點低於預期，國75英91數乙83歷85地86，他原本想...</td>\n",
       "      <td>考試</td>\n",
       "      <td>1</td>\n",
       "    </tr>\n",
       "  </tbody>\n",
       "</table>\n",
       "</div>"
      ],
      "text/plain": [
       "          id   type            title  \\\n",
       "0  236748676  train  科系選擇 政大地政vs清大經濟   \n",
       "1  236748676  train  科系選擇 政大地政vs清大經濟   \n",
       "\n",
       "                                             excerpt label  value  \n",
       "0  代po，今年表妹考指考 可是成績出來有點低於預期，國75英91數乙83歷85地86，他原本想...    指考      1  \n",
       "1  代po，今年表妹考指考 可是成績出來有點低於預期，國75英91數乙83歷85地86，他原本想...    考試      1  "
      ]
     },
     "metadata": {},
     "execution_count": 232
    }
   ],
   "metadata": {}
  },
  {
   "cell_type": "code",
   "execution_count": 233,
   "source": [
    "df['text'] = df['title'] + ' ' + df['excerpt']\n",
    "df.head(2)"
   ],
   "outputs": [
    {
     "output_type": "execute_result",
     "data": {
      "text/html": [
       "<div>\n",
       "<style scoped>\n",
       "    .dataframe tbody tr th:only-of-type {\n",
       "        vertical-align: middle;\n",
       "    }\n",
       "\n",
       "    .dataframe tbody tr th {\n",
       "        vertical-align: top;\n",
       "    }\n",
       "\n",
       "    .dataframe thead th {\n",
       "        text-align: right;\n",
       "    }\n",
       "</style>\n",
       "<table border=\"1\" class=\"dataframe\">\n",
       "  <thead>\n",
       "    <tr style=\"text-align: right;\">\n",
       "      <th></th>\n",
       "      <th>id</th>\n",
       "      <th>type</th>\n",
       "      <th>title</th>\n",
       "      <th>excerpt</th>\n",
       "      <th>label</th>\n",
       "      <th>value</th>\n",
       "      <th>text</th>\n",
       "    </tr>\n",
       "  </thead>\n",
       "  <tbody>\n",
       "    <tr>\n",
       "      <th>0</th>\n",
       "      <td>236748676</td>\n",
       "      <td>train</td>\n",
       "      <td>科系選擇 政大地政vs清大經濟</td>\n",
       "      <td>代po，今年表妹考指考 可是成績出來有點低於預期，國75英91數乙83歷85地86，他原本想...</td>\n",
       "      <td>指考</td>\n",
       "      <td>1</td>\n",
       "      <td>科系選擇 政大地政vs清大經濟 代po，今年表妹考指考 可是成績出來有點低於預期，國75英9...</td>\n",
       "    </tr>\n",
       "    <tr>\n",
       "      <th>1</th>\n",
       "      <td>236748676</td>\n",
       "      <td>train</td>\n",
       "      <td>科系選擇 政大地政vs清大經濟</td>\n",
       "      <td>代po，今年表妹考指考 可是成績出來有點低於預期，國75英91數乙83歷85地86，他原本想...</td>\n",
       "      <td>考試</td>\n",
       "      <td>1</td>\n",
       "      <td>科系選擇 政大地政vs清大經濟 代po，今年表妹考指考 可是成績出來有點低於預期，國75英9...</td>\n",
       "    </tr>\n",
       "  </tbody>\n",
       "</table>\n",
       "</div>"
      ],
      "text/plain": [
       "          id   type            title  \\\n",
       "0  236748676  train  科系選擇 政大地政vs清大經濟   \n",
       "1  236748676  train  科系選擇 政大地政vs清大經濟   \n",
       "\n",
       "                                             excerpt label  value  \\\n",
       "0  代po，今年表妹考指考 可是成績出來有點低於預期，國75英91數乙83歷85地86，他原本想...    指考      1   \n",
       "1  代po，今年表妹考指考 可是成績出來有點低於預期，國75英91數乙83歷85地86，他原本想...    考試      1   \n",
       "\n",
       "                                                text  \n",
       "0  科系選擇 政大地政vs清大經濟 代po，今年表妹考指考 可是成績出來有點低於預期，國75英9...  \n",
       "1  科系選擇 政大地政vs清大經濟 代po，今年表妹考指考 可是成績出來有點低於預期，國75英9...  "
      ]
     },
     "metadata": {},
     "execution_count": 233
    }
   ],
   "metadata": {}
  },
  {
   "cell_type": "code",
   "execution_count": 247,
   "source": [
    "df1 = pd.pivot_table(df, index=['id', 'text', 'type'], columns='label', values='value', fill_value=0)"
   ],
   "outputs": [],
   "metadata": {}
  },
  {
   "cell_type": "code",
   "execution_count": 248,
   "source": [
    "label_list = list(df1.columns)\n",
    "label_dic = { i : label_list[i] for i in range(0, len(label_list) ) }\n",
    "label_site = './model_output/dcard_cate_label_dic_2.npy'\n",
    "np.save(label_site, label_dic)"
   ],
   "outputs": [],
   "metadata": {}
  },
  {
   "cell_type": "code",
   "execution_count": 256,
   "source": [
    "df = df1.reset_index(drop=False)\n",
    "Y_df = df1.reset_index(drop=True)"
   ],
   "outputs": [],
   "metadata": {}
  },
  {
   "cell_type": "markdown",
   "source": [
    "## Train Model"
   ],
   "metadata": {}
  },
  {
   "cell_type": "code",
   "execution_count": 257,
   "source": [
    "import os\n",
    "import yaml\n",
    "import numpy as np\n",
    "import pandas as pd\n",
    "from utils import mysqlDatabase\n",
    "from myBertTools import myBertModel, myTokenizer\n",
    "from sklearn.model_selection import train_test_split"
   ],
   "outputs": [
    {
     "output_type": "stream",
     "name": "stdout",
     "text": [
      "Init Plugin\n",
      "Init Graph Optimizer\n",
      "Init Kernel\n"
     ]
    }
   ],
   "metadata": {}
  },
  {
   "cell_type": "code",
   "execution_count": 263,
   "source": [
    "def seq_padding(X, padding=0):\n",
    "    L = [len(x) for x in X]\n",
    "    ML = max(L)\n",
    "    return np.array([\n",
    "        np.concatenate([x, [padding] * (ML - len(x))]) if len(x) < ML else x for x in X\n",
    "    ])"
   ],
   "outputs": [],
   "metadata": {}
  },
  {
   "cell_type": "code",
   "execution_count": 264,
   "source": [
    "class dataGenerator:\n",
    "    def __init__(self, data, batch_size=32):\n",
    "        self.data = data\n",
    "        self.batch_size = batch_size\n",
    "        self.steps = len(self.data) // self.batch_size\n",
    "        if len(self.data) % self.batch_size != 0:\n",
    "            self.steps += 1\n",
    "    def __len__(self):\n",
    "        return self.steps\n",
    "    def __iter__(self):\n",
    "        while True:\n",
    "            idxs = list(range(len(self.data)))\n",
    "            np.random.shuffle(idxs)\n",
    "            X1, X2, Y = [], [], []\n",
    "            for i in idxs:\n",
    "                d = self.data[i]\n",
    "                text = d[0][:maxlen]\n",
    "                x1, x2 = MyTokenizer.encode(first=text)\n",
    "                y = d[1:]\n",
    "                X1.append(x1)\n",
    "                X2.append(x2)\n",
    "                Y.append(y)\n",
    "                if len(X1) == self.batch_size or i == idxs[-1]:\n",
    "                    X1 = seq_padding(X1)\n",
    "                    X2 = seq_padding(X2)\n",
    "                    Y = seq_padding(Y)\n",
    "                    yield [X1, X2], Y\n",
    "                    [X1, X2, Y] = [], [], []"
   ],
   "outputs": [],
   "metadata": {}
  },
  {
   "cell_type": "code",
   "execution_count": 267,
   "source": [
    "if __name__ == '__main__':\n",
    "    os.environ['TF_KERAS'] = '1'\n",
    "    maxlen = 100\n",
    "    pretrained_path = '/Users/jackyfu/Desktop/hwf87_git/bert_wwm/'\n",
    "    config_path = os.path.join(pretrained_path, 'bert_config.json')\n",
    "    checkpoint_path = os.path.join(pretrained_path, 'bert_model.ckpt')\n",
    "    vocab_path = os.path.join(pretrained_path, 'vocab.txt')\n",
    "    output_path = '/Users/jackyfu/Desktop/hwf87_git/Dcard_post_classification/model_output'\n",
    "    with open('config.yml', 'r') as stream:\n",
    "        myconfig = yaml.load(stream, Loader=yaml.CLoader)\n",
    "    database_username = myconfig['mysql_database']['database_username']\n",
    "    database_password = myconfig['mysql_database']['database_password']\n",
    "    database_ip       = myconfig['mysql_database']['database_ip']\n",
    "    database_name     = myconfig['mysql_database']['database_name']\n",
    "    # MysqlDatabase = mysqlDatabase(database_username, database_password, database_ip, database_name)\n",
    "    # sql = '''\n",
    "    # SELECT df.name, dp.*\n",
    "    # FROM Bigdata.dcard_posts dp\n",
    "    # left join Bigdata.dcard_forums df on dp.forumid = df.id\n",
    "    # WHERE 1=1\n",
    "    # and df.name in ('時事', '網路購物', '股票', '美妝', '工作', '考試', '穿搭', '3C', 'Apple', '感情', \n",
    "    #                 '美食', '理財', '居家生活', '臺灣大學', 'YouTuber');\n",
    "    # '''\n",
    "    ##\n",
    "    # df, Y_df = get_data(MysqlDatabase, sql)\n",
    "    MyBertModel = myBertModel(pretrained_path, config_path, checkpoint_path, vocab_path)\n",
    "    token_dict = MyBertModel.get_token_dict()\n",
    "    model = MyBertModel.build_model(Y_df)\n",
    "    MyTokenizer = myTokenizer(token_dict)\n",
    "\n",
    "    train_data = df[df['type'] == 'train'].drop(columns=['id', 'type']).values.tolist()\n",
    "    valid_data = df[df['type'] == 'valid'].drop(columns=['id', 'type']).values.tolist()\n",
    "    \n",
    "    train_D = dataGenerator(train_data)\n",
    "    valid_D = dataGenerator(valid_data)\n",
    "\n",
    "    history = model.fit(\n",
    "        train_D.__iter__(),\n",
    "        steps_per_epoch=len(train_D),\n",
    "        epochs=1,\n",
    "        validation_data=valid_D.__iter__(),\n",
    "        validation_steps=len(valid_D)\n",
    "    )\n",
    "    model_path = './model_output/dcard_post_cls_bert_2.h5'\n",
    "    model.save(model_path)"
   ],
   "outputs": [
    {
     "output_type": "stream",
     "name": "stdout",
     "text": [
      "Model: \"model_11\"\n",
      "__________________________________________________________________________________________________\n",
      "Layer (type)                    Output Shape         Param #     Connected to                     \n",
      "==================================================================================================\n",
      "input_7 (InputLayer)            [(None, None)]       0                                            \n",
      "__________________________________________________________________________________________________\n",
      "input_8 (InputLayer)            [(None, None)]       0                                            \n",
      "__________________________________________________________________________________________________\n",
      "model_10 (Functional)           (None, None, 768)    101677056   input_7[0][0]                    \n",
      "                                                                 input_8[0][0]                    \n",
      "__________________________________________________________________________________________________\n",
      "lambda_3 (Lambda)               (None, 768)          0           model_10[0][0]                   \n",
      "__________________________________________________________________________________________________\n",
      "dense_3 (Dense)                 (None, 78)           59982       lambda_3[0][0]                   \n",
      "==================================================================================================\n",
      "Total params: 101,737,038\n",
      "Trainable params: 101,737,038\n",
      "Non-trainable params: 0\n",
      "__________________________________________________________________________________________________\n"
     ]
    },
    {
     "output_type": "stream",
     "name": "stderr",
     "text": [
      "2021-09-05 19:39:33.179868: I tensorflow/core/grappler/optimizers/custom_graph_optimizer_registry.cc:112] Plugin optimizer for device_type GPU is enabled.\n"
     ]
    },
    {
     "output_type": "stream",
     "name": "stdout",
     "text": [
      "455/455 [==============================] - ETA: 0s - loss: 0.1085 - accuracy: 0.3040"
     ]
    },
    {
     "output_type": "stream",
     "name": "stderr",
     "text": [
      "2021-09-05 20:15:39.272510: I tensorflow/core/grappler/optimizers/custom_graph_optimizer_registry.cc:112] Plugin optimizer for device_type GPU is enabled.\n"
     ]
    },
    {
     "output_type": "stream",
     "name": "stdout",
     "text": [
      "455/455 [==============================] - 2279s 5s/step - loss: 0.1085 - accuracy: 0.3040 - val_loss: 0.0646 - val_accuracy: 0.5013\n"
     ]
    },
    {
     "output_type": "stream",
     "name": "stderr",
     "text": [
      "/Users/jackyfu/miniforge3/envs/tensorflow/lib/python3.9/site-packages/tensorflow/python/keras/utils/generic_utils.py:494: CustomMaskWarning: Custom mask layers require a config and must override get_config. When loading, the custom mask layer must be passed to the custom_objects argument.\n",
      "  warnings.warn('Custom mask layers require a config and must override '\n"
     ]
    }
   ],
   "metadata": {}
  },
  {
   "cell_type": "code",
   "execution_count": null,
   "source": [],
   "outputs": [],
   "metadata": {}
  },
  {
   "cell_type": "code",
   "execution_count": null,
   "source": [],
   "outputs": [],
   "metadata": {}
  },
  {
   "cell_type": "code",
   "execution_count": null,
   "source": [],
   "outputs": [],
   "metadata": {}
  }
 ],
 "metadata": {
  "orig_nbformat": 4,
  "language_info": {
   "name": "python",
   "version": "3.9.6",
   "mimetype": "text/x-python",
   "codemirror_mode": {
    "name": "ipython",
    "version": 3
   },
   "pygments_lexer": "ipython3",
   "nbconvert_exporter": "python",
   "file_extension": ".py"
  },
  "kernelspec": {
   "name": "python3",
   "display_name": "Python 3.9.6 64-bit ('tensorflow': conda)"
  },
  "interpreter": {
   "hash": "0729e0afaf4d65e2a91a3bdab3b4bf083879cf81e41f52fbed812722fa13cb93"
  }
 },
 "nbformat": 4,
 "nbformat_minor": 2
}