{
 "cells": [
  {
   "cell_type": "code",
   "execution_count": 16,
   "source": [
    "import os\n",
    "import numpy as np\n",
    "import pandas as pd\n",
    "from keras.models import load_model\n",
    "from keras_bert import get_custom_objects\n",
    "from myBertTools import myBertModel, myTokenizer\n",
    "from tqdm._tqdm_notebook import tqdm_notebook\n",
    "tqdm_notebook.pandas()"
   ],
   "outputs": [],
   "metadata": {}
  },
  {
   "cell_type": "code",
   "execution_count": 17,
   "source": [
    "def class_predict_fuc(text):\n",
    "    text = str(text)[:100]\n",
    "    x1, x2 = MyTokenizer.encode(first=text)\n",
    "    x1, x2 = np.array([x1]), np.array([x2])\n",
    "    outcome = model.predict([x1, x2])\n",
    "    percentage = outcome.max()\n",
    "    label = label_dic[outcome.argmax()]\n",
    "    return label, percentage"
   ],
   "outputs": [],
   "metadata": {}
  },
  {
   "cell_type": "code",
   "execution_count": 18,
   "source": [
    "if __name__ == '__main__':\n",
    "    pretrained_path = '/Users/jackyfu/Desktop/hwf87_git/bert_wwm/'\n",
    "    config_path = os.path.join(pretrained_path, 'bert_config.json')\n",
    "    checkpoint_path = os.path.join(pretrained_path, 'bert_model.ckpt')\n",
    "    vocab_path = os.path.join(pretrained_path, 'vocab.txt')\n",
    "    model_path = '/Users/jackyfu/Desktop/hwf87_git/Dcard_post_classification/model_output/dcard_post_cls_bert.h5'\n",
    "    dic_path = '/Users/jackyfu/Desktop/hwf87_git/Dcard_post_classification/model_output/dcard_cate_label_dic.npy'\n",
    "    ## Load Model\n",
    "    MyBertModel = myBertModel(pretrained_path, config_path, checkpoint_path, vocab_path)\n",
    "    token_dict = MyBertModel.get_token_dict()\n",
    "    MyTokenizer = myTokenizer(token_dict)\n",
    "    model = load_model(model_path, custom_objects=get_custom_objects())\n",
    "    label_dic = np.load(dic_path, allow_pickle=True).item()\n",
    "    ## predict\n",
    "    text = '''關於80人以上遠距的信 真是疑問滿滿… \n",
    "    1.所以第一週遠距的課要怎麼加簽？\n",
    "    2.是選課上限80以上的就確定第一週遠距，上限80以下第一週不遠距嗎？還是看選課人數？\n",
    "    3.那如果看選課人數\n",
    "    '''\n",
    "    label, confidance = class_predict_fuc(text)\n",
    "    print('看板預測: ', label, ' 信心水準: ', confidance)"
   ],
   "outputs": [
    {
     "output_type": "stream",
     "name": "stderr",
     "text": [
      "2021-09-04 18:49:36.407742: I tensorflow/core/grappler/optimizers/custom_graph_optimizer_registry.cc:112] Plugin optimizer for device_type GPU is enabled.\n"
     ]
    },
    {
     "output_type": "stream",
     "name": "stdout",
     "text": [
      "看板預測:  臺灣大學  信心水準:  0.9883846\n"
     ]
    }
   ],
   "metadata": {}
  }
 ],
 "metadata": {
  "orig_nbformat": 4,
  "language_info": {
   "name": "python",
   "version": "3.9.6",
   "mimetype": "text/x-python",
   "codemirror_mode": {
    "name": "ipython",
    "version": 3
   },
   "pygments_lexer": "ipython3",
   "nbconvert_exporter": "python",
   "file_extension": ".py"
  },
  "kernelspec": {
   "name": "python3",
   "display_name": "Python 3.9.6 64-bit ('tensorflow': conda)"
  },
  "interpreter": {
   "hash": "0729e0afaf4d65e2a91a3bdab3b4bf083879cf81e41f52fbed812722fa13cb93"
  }
 },
 "nbformat": 4,
 "nbformat_minor": 2
}