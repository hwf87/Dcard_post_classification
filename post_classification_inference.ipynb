{
 "cells": [
  {
   "cell_type": "code",
   "execution_count": 2,
   "source": [
    "import os\n",
    "import numpy as np\n",
    "import pandas as pd\n",
    "from keras.models import load_model\n",
    "from keras_bert import get_custom_objects\n",
    "from utils import mysqlDatabase\n",
    "from myBertTools import myBertModel, myTokenizer\n",
    "from tqdm._tqdm_notebook import tqdm_notebook\n",
    "tqdm_notebook.pandas()"
   ],
   "outputs": [],
   "metadata": {}
  },
  {
   "cell_type": "code",
   "execution_count": 3,
   "source": [
    "def class_predict_fuc(text):\n",
    "    text = str(text)[:100]\n",
    "    x1, x2 = MyTokenizer.encode(first=text)\n",
    "    x1, x2 = np.array([x1]), np.array([x2])\n",
    "    outcome = model.predict([x1, x2])\n",
    "    percentage = outcome.max()\n",
    "    label = label_dic[outcome.argmax()]\n",
    "    return label, percentage"
   ],
   "outputs": [],
   "metadata": {}
  },
  {
   "cell_type": "code",
   "execution_count": 4,
   "source": [
    "def multi_label_predict(text):\n",
    "    text = str(text)[:100]\n",
    "    x1, x2 = MyTokenizer.encode(first=text)\n",
    "    x1, x2 = np.array([x1]), np.array([x2])\n",
    "    outcome = model.predict([x1, x2])\n",
    "    multi_label_set = []\n",
    "    label_idx = np.where(outcome >= 0.15)[1]\n",
    "    for idx in label_idx:\n",
    "        multi_label_set.append(label_dic[idx])\n",
    "    return multi_label_set"
   ],
   "outputs": [],
   "metadata": {}
  },
  {
   "cell_type": "code",
   "execution_count": 5,
   "source": [
    "if __name__ == '__main__':\n",
    "    pretrained_path = '/Users/jackyfu/Desktop/hwf87_git/bert_wwm/'\n",
    "    config_path = os.path.join(pretrained_path, 'bert_config.json')\n",
    "    checkpoint_path = os.path.join(pretrained_path, 'bert_model.ckpt')\n",
    "    vocab_path = os.path.join(pretrained_path, 'vocab.txt')\n",
    "    model_path = '/Users/jackyfu/Desktop/hwf87_git/Dcard_post_classification/model_output/dcard_post_cls_bert_2.h5'\n",
    "    dic_path = '/Users/jackyfu/Desktop/hwf87_git/Dcard_post_classification/model_output/dcard_cate_label_dic_2.npy'\n",
    "    ## Load Model\n",
    "    MyBertModel = myBertModel(pretrained_path, config_path, checkpoint_path, vocab_path)\n",
    "    token_dict = MyBertModel.get_token_dict()\n",
    "    MyTokenizer = myTokenizer(token_dict)\n",
    "    model = load_model(model_path, custom_objects=get_custom_objects())\n",
    "    label_dic = np.load(dic_path, allow_pickle=True).item()\n",
    "    ## predict\n",
    "    text = '''關於80人以上遠距的信 真是疑問滿滿… \n",
    "    1.所以第一週遠距的課要怎麼加簽？\n",
    "    2.是選課上限80以上的就確定第一週遠距，上限80以下第一週不遠距嗎？還是看選課人數？\n",
    "    3.那如果看選課人數\n",
    "    '''\n",
    "    # label, confidance = class_predict_fuc(text)\n",
    "    # print('看板預測: ', label, ' 信心水準: ', confidance)\n",
    "    multi_label_set = multi_label_predict(text)\n",
    "    print('predict multi-label set: ', multi_label_set)"
   ],
   "outputs": [
    {
     "output_type": "stream",
     "name": "stdout",
     "text": [
      "Metal device set to: Apple M1\n",
      "\n",
      "systemMemory: 16.00 GB\n",
      "maxCacheSize: 5.33 GB\n",
      "\n"
     ]
    },
    {
     "output_type": "stream",
     "name": "stderr",
     "text": [
      "2021-09-06 01:22:52.870692: I tensorflow/core/common_runtime/pluggable_device/pluggable_device_factory.cc:305] Could not identify NUMA node of platform GPU ID 0, defaulting to 0. Your kernel may not have been built with NUMA support.\n",
      "2021-09-06 01:22:52.870840: I tensorflow/core/common_runtime/pluggable_device/pluggable_device_factory.cc:271] Created TensorFlow device (/job:localhost/replica:0/task:0/device:GPU:0 with 0 MB memory) -> physical PluggableDevice (device: 0, name: METAL, pci bus id: <undefined>)\n",
      "2021-09-06 01:22:56.483558: I tensorflow/compiler/mlir/mlir_graph_optimization_pass.cc:176] None of the MLIR Optimization Passes are enabled (registered 2)\n",
      "2021-09-06 01:22:56.483750: W tensorflow/core/platform/profile_utils/cpu_utils.cc:128] Failed to get CPU frequency: 0 Hz\n",
      "2021-09-06 01:22:57.414361: I tensorflow/core/grappler/optimizers/custom_graph_optimizer_registry.cc:112] Plugin optimizer for device_type GPU is enabled.\n"
     ]
    },
    {
     "output_type": "stream",
     "name": "stdout",
     "text": [
      "predict multi-label set:  ['考試', '臺灣大學']\n"
     ]
    }
   ],
   "metadata": {}
  },
  {
   "cell_type": "markdown",
   "source": [
    "## Performance testing"
   ],
   "metadata": {}
  },
  {
   "cell_type": "code",
   "execution_count": 6,
   "source": [
    "import yaml\n",
    "with open('config.yml', 'r') as stream:\n",
    "        myconfig = yaml.load(stream, Loader=yaml.CLoader)\n",
    "database_username = myconfig['mysql_database']['database_username']\n",
    "database_password = myconfig['mysql_database']['database_password']\n",
    "database_ip       = myconfig['mysql_database']['database_ip']\n",
    "database_name     = myconfig['mysql_database']['database_name']\n",
    "\n",
    "MysqlDatabase = mysqlDatabase(database_username, database_password, database_ip, database_name)"
   ],
   "outputs": [],
   "metadata": {}
  },
  {
   "cell_type": "code",
   "execution_count": 7,
   "source": [
    "sql = '''\n",
    "SELECT df.name forums_name, dp.*\n",
    "FROM Bigdata.dcard_posts dp\n",
    "left join Bigdata.dcard_forums df on dp.forumid = df.id\n",
    "WHERE 1=1\n",
    "'''\n",
    "df = MysqlDatabase.select_table(sql)"
   ],
   "outputs": [
    {
     "output_type": "stream",
     "name": "stdout",
     "text": [
      "Successfully select from Bigdata table\n"
     ]
    }
   ],
   "metadata": {}
  },
  {
   "cell_type": "code",
   "execution_count": 8,
   "source": [
    "df['text'] = df['title'] + ' ' + df['excerpt'] + ' ' + df['topics']\n",
    "df_test = df[df.createdAt >= '2021-09-05'][['forums_name', 'id', 'title', 'excerpt', 'topics', 'text']]\n",
    "df_test['predict_forums_name'] = df_test['text'].progress_apply(multi_label_predict)"
   ],
   "outputs": [
    {
     "output_type": "display_data",
     "data": {
      "application/vnd.jupyter.widget-view+json": {
       "version_major": 2,
       "version_minor": 0,
       "model_id": "0a25e51f6a1a4015834e4c0d618c2331"
      },
      "text/plain": [
       "  0%|          | 0/886 [00:00<?, ?it/s]"
      ]
     },
     "metadata": {}
    },
    {
     "output_type": "stream",
     "name": "stderr",
     "text": [
      "2021-09-06 01:23:26.486803: I tensorflow/core/grappler/optimizers/custom_graph_optimizer_registry.cc:112] Plugin optimizer for device_type GPU is enabled.\n",
      "2021-09-06 01:23:28.150745: I tensorflow/core/grappler/optimizers/custom_graph_optimizer_registry.cc:112] Plugin optimizer for device_type GPU is enabled.\n"
     ]
    }
   ],
   "metadata": {}
  },
  {
   "cell_type": "code",
   "execution_count": 9,
   "source": [
    "df_test.to_excel('sample_output.xlsx', index = False)"
   ],
   "outputs": [],
   "metadata": {}
  },
  {
   "cell_type": "code",
   "execution_count": null,
   "source": [],
   "outputs": [],
   "metadata": {}
  }
 ],
 "metadata": {
  "orig_nbformat": 4,
  "language_info": {
   "name": "python",
   "version": "3.9.6",
   "mimetype": "text/x-python",
   "codemirror_mode": {
    "name": "ipython",
    "version": 3
   },
   "pygments_lexer": "ipython3",
   "nbconvert_exporter": "python",
   "file_extension": ".py"
  },
  "kernelspec": {
   "name": "python3",
   "display_name": "Python 3.9.6 64-bit ('tensorflow': conda)"
  },
  "interpreter": {
   "hash": "0729e0afaf4d65e2a91a3bdab3b4bf083879cf81e41f52fbed812722fa13cb93"
  }
 },
 "nbformat": 4,
 "nbformat_minor": 2
}