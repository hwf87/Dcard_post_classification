{
 "cells": [
  {
   "cell_type": "code",
   "execution_count": 1,
   "source": [
    "import os\n",
    "import numpy as np\n",
    "import pandas as pd\n",
    "from keras.models import load_model\n",
    "from keras_bert import get_custom_objects\n",
    "from utils import mysqlDatabase\n",
    "from myBertTools import myBertModel, myTokenizer\n",
    "from tqdm._tqdm_notebook import tqdm_notebook\n",
    "tqdm_notebook.pandas()"
   ],
   "outputs": [
    {
     "output_type": "stream",
     "name": "stdout",
     "text": [
      "Init Plugin\n",
      "Init Graph Optimizer\n",
      "Init Kernel\n"
     ]
    },
    {
     "output_type": "stream",
     "name": "stderr",
     "text": [
      "/var/folders/17/dsyzw2j96ggfgmrjcsnbtz700000gn/T/ipykernel_63867/65952826.py:8: TqdmDeprecationWarning: This function will be removed in tqdm==5.0.0\n",
      "Please use `tqdm.notebook.*` instead of `tqdm._tqdm_notebook.*`\n",
      "  from tqdm._tqdm_notebook import tqdm_notebook\n"
     ]
    }
   ],
   "metadata": {}
  },
  {
   "cell_type": "code",
   "execution_count": 19,
   "source": [
    "def class_predict_fuc(text):\n",
    "    text = str(text)[:100]\n",
    "    x1, x2 = MyTokenizer.encode(first=text)\n",
    "    x1, x2 = np.array([x1]), np.array([x2])\n",
    "    outcome = model.predict([x1, x2])\n",
    "    percentage = outcome.max()\n",
    "    label = label_dic[outcome.argmax()]\n",
    "    return label, percentage"
   ],
   "outputs": [],
   "metadata": {}
  },
  {
   "cell_type": "code",
   "execution_count": 20,
   "source": [
    "def multi_label_predict(text):\n",
    "    text = str(text)[:100]\n",
    "    x1, x2 = MyTokenizer.encode(first=text)\n",
    "    x1, x2 = np.array([x1]), np.array([x2])\n",
    "    outcome = model.predict([x1, x2])\n",
    "    multi_label_set = []\n",
    "    label_idx = np.where(outcome >= 0.15)[1]\n",
    "    for idx in label_idx:\n",
    "        multi_label_set.append(label_dic[idx])\n",
    "    return multi_label_set"
   ],
   "outputs": [],
   "metadata": {}
  },
  {
   "cell_type": "code",
   "execution_count": 12,
   "source": [
    "if __name__ == '__main__':\n",
    "    pretrained_path = '/Users/jackyfu/Desktop/hwf87_git/bert_wwm/'\n",
    "    config_path = os.path.join(pretrained_path, 'bert_config.json')\n",
    "    checkpoint_path = os.path.join(pretrained_path, 'bert_model.ckpt')\n",
    "    vocab_path = os.path.join(pretrained_path, 'vocab.txt')\n",
    "    model_path = '/Users/jackyfu/Desktop/hwf87_git/Dcard_post_classification/model_output/dcard_post_cls_bert_2.h5'\n",
    "    dic_path = '/Users/jackyfu/Desktop/hwf87_git/Dcard_post_classification/model_output/dcard_cate_label_dic_2.npy'\n",
    "    ## Load Model\n",
    "    MyBertModel = myBertModel(pretrained_path, config_path, checkpoint_path, vocab_path)\n",
    "    token_dict = MyBertModel.get_token_dict()\n",
    "    MyTokenizer = myTokenizer(token_dict)\n",
    "    model = load_model(model_path, custom_objects=get_custom_objects())\n",
    "    label_dic = np.load(dic_path, allow_pickle=True).item()\n",
    "    ## predict\n",
    "    text = '''關於80人以上遠距的信 真是疑問滿滿… \n",
    "    1.所以第一週遠距的課要怎麼加簽？\n",
    "    2.是選課上限80以上的就確定第一週遠距，上限80以下第一週不遠距嗎？還是看選課人數？\n",
    "    3.那如果看選課人數\n",
    "    '''\n",
    "    # label, confidance = class_predict_fuc(text)\n",
    "    # print('看板預測: ', label, ' 信心水準: ', confidance)\n",
    "    multi_label_set = multi_label_predict(text)\n",
    "    print('predict multi-label set: ', multi_label_set)"
   ],
   "outputs": [
    {
     "output_type": "stream",
     "name": "stderr",
     "text": [
      "2021-09-05 22:35:00.900680: I tensorflow/core/grappler/optimizers/custom_graph_optimizer_registry.cc:112] Plugin optimizer for device_type GPU is enabled.\n"
     ]
    },
    {
     "output_type": "stream",
     "name": "stdout",
     "text": [
      "WARNING:tensorflow:6 out of the last 7 calls to <function Model.make_predict_function.<locals>.predict_function at 0x2a025c790> triggered tf.function retracing. Tracing is expensive and the excessive number of tracings could be due to (1) creating @tf.function repeatedly in a loop, (2) passing tensors with different shapes, (3) passing Python objects instead of tensors. For (1), please define your @tf.function outside of the loop. For (2), @tf.function has experimental_relax_shapes=True option that relaxes argument shapes that can avoid unnecessary retracing. For (3), please refer to https://www.tensorflow.org/guide/function#controlling_retracing and https://www.tensorflow.org/api_docs/python/tf/function for  more details.\n",
      "predict multi-label set:  ['考試', '臺灣大學']\n"
     ]
    }
   ],
   "metadata": {}
  },
  {
   "cell_type": "markdown",
   "source": [
    "## Performance testing"
   ],
   "metadata": {}
  },
  {
   "cell_type": "code",
   "execution_count": 21,
   "source": [
    "import yaml\n",
    "with open('config.yml', 'r') as stream:\n",
    "        myconfig = yaml.load(stream, Loader=yaml.CLoader)\n",
    "database_username = myconfig['mysql_database']['database_username']\n",
    "database_password = myconfig['mysql_database']['database_password']\n",
    "database_ip       = myconfig['mysql_database']['database_ip']\n",
    "database_name     = myconfig['mysql_database']['database_name']\n",
    "\n",
    "MysqlDatabase = mysqlDatabase(database_username, database_password, database_ip, database_name)"
   ],
   "outputs": [],
   "metadata": {}
  },
  {
   "cell_type": "code",
   "execution_count": 14,
   "source": [
    "sql = '''\n",
    "SELECT df.name forums_name, dp.*\n",
    "FROM Bigdata.dcard_posts dp\n",
    "left join Bigdata.dcard_forums df on dp.forumid = df.id\n",
    "WHERE 1=1\n",
    "'''\n",
    "df = MysqlDatabase.select_table(sql)"
   ],
   "outputs": [
    {
     "output_type": "stream",
     "name": "stdout",
     "text": [
      "Successfully select from Bigdata table\n"
     ]
    }
   ],
   "metadata": {}
  },
  {
   "cell_type": "code",
   "execution_count": 22,
   "source": [
    "df['text'] = df['title'] + ' ' + df['excerpt'] + ' ' + df['topics']\n",
    "df_test = df[df.createdAt >= '2021-09-05'][['forums_name', 'id', 'title', 'excerpt', 'topics', 'text']]\n",
    "df_test['predict_forums_name'] = df_test['text'].progress_apply(multi_label_predict)"
   ],
   "outputs": [
    {
     "output_type": "display_data",
     "data": {
      "application/vnd.jupyter.widget-view+json": {
       "version_major": 2,
       "version_minor": 0,
       "model_id": "3a6a9b1362e34af7bdb8606000877fc0"
      },
      "text/plain": [
       "  0%|          | 0/491 [00:00<?, ?it/s]"
      ]
     },
     "metadata": {}
    }
   ],
   "metadata": {}
  },
  {
   "cell_type": "code",
   "execution_count": 27,
   "source": [
    "df_test.sample(3)"
   ],
   "outputs": [
    {
     "output_type": "execute_result",
     "data": {
      "text/html": [
       "<div>\n",
       "<style scoped>\n",
       "    .dataframe tbody tr th:only-of-type {\n",
       "        vertical-align: middle;\n",
       "    }\n",
       "\n",
       "    .dataframe tbody tr th {\n",
       "        vertical-align: top;\n",
       "    }\n",
       "\n",
       "    .dataframe thead th {\n",
       "        text-align: right;\n",
       "    }\n",
       "</style>\n",
       "<table border=\"1\" class=\"dataframe\">\n",
       "  <thead>\n",
       "    <tr style=\"text-align: right;\">\n",
       "      <th></th>\n",
       "      <th>forums_name</th>\n",
       "      <th>id</th>\n",
       "      <th>title</th>\n",
       "      <th>excerpt</th>\n",
       "      <th>topics</th>\n",
       "      <th>text</th>\n",
       "      <th>predict_forums_name</th>\n",
       "    </tr>\n",
       "  </thead>\n",
       "  <tbody>\n",
       "    <tr>\n",
       "      <th>17417</th>\n",
       "      <td>穿搭</td>\n",
       "      <td>236888918</td>\n",
       "      <td>今年夏天穿了什麼</td>\n",
       "      <td>今年因為疫情都不太出門，導致出門走走拍拍的就只有那幾天⋯</td>\n",
       "      <td>['夏天', '日常穿搭', '女生穿搭']</td>\n",
       "      <td>今年夏天穿了什麼 今年因為疫情都不太出門，導致出門走走拍拍的就只有那幾天⋯ ['夏天', '...</td>\n",
       "      <td>[女生穿搭, 日常穿搭, 穿搭]</td>\n",
       "    </tr>\n",
       "    <tr>\n",
       "      <th>16002</th>\n",
       "      <td>穿搭</td>\n",
       "      <td>236890146</td>\n",
       "      <td>童裝買賣</td>\n",
       "      <td>最近在經營童裝店鋪，歡迎有興趣的可以參觀參觀，下面都是實體拍照，自己驗證過的材質 真的超級舒...</td>\n",
       "      <td>['童裝', '衣服', '日常穿搭', '蝦皮']</td>\n",
       "      <td>童裝買賣 最近在經營童裝店鋪，歡迎有興趣的可以參觀參觀，下面都是實體拍照，自己驗證過的材質 ...</td>\n",
       "      <td>[日常穿搭, 穿搭]</td>\n",
       "    </tr>\n",
       "    <tr>\n",
       "      <th>10531</th>\n",
       "      <td>美食</td>\n",
       "      <td>236890450</td>\n",
       "      <td>一個人的海底撈</td>\n",
       "      <td>好久沒吃撈撈了，以前都一群人開鍋比較便宜也可以吃比較多種，疫情的關係梅花坐 變成一人一桌，很...</td>\n",
       "      <td>['海底撈']</td>\n",
       "      <td>一個人的海底撈 好久沒吃撈撈了，以前都一群人開鍋比較便宜也可以吃比較多種，疫情的關係梅花坐 ...</td>\n",
       "      <td>[美食, 食記]</td>\n",
       "    </tr>\n",
       "  </tbody>\n",
       "</table>\n",
       "</div>"
      ],
      "text/plain": [
       "      forums_name         id     title  \\\n",
       "17417          穿搭  236888918  今年夏天穿了什麼   \n",
       "16002          穿搭  236890146      童裝買賣   \n",
       "10531          美食  236890450   一個人的海底撈   \n",
       "\n",
       "                                                 excerpt  \\\n",
       "17417                       今年因為疫情都不太出門，導致出門走走拍拍的就只有那幾天⋯   \n",
       "16002  最近在經營童裝店鋪，歡迎有興趣的可以參觀參觀，下面都是實體拍照，自己驗證過的材質 真的超級舒...   \n",
       "10531  好久沒吃撈撈了，以前都一群人開鍋比較便宜也可以吃比較多種，疫情的關係梅花坐 變成一人一桌，很...   \n",
       "\n",
       "                           topics  \\\n",
       "17417      ['夏天', '日常穿搭', '女生穿搭']   \n",
       "16002  ['童裝', '衣服', '日常穿搭', '蝦皮']   \n",
       "10531                     ['海底撈']   \n",
       "\n",
       "                                                    text predict_forums_name  \n",
       "17417  今年夏天穿了什麼 今年因為疫情都不太出門，導致出門走走拍拍的就只有那幾天⋯ ['夏天', '...    [女生穿搭, 日常穿搭, 穿搭]  \n",
       "16002  童裝買賣 最近在經營童裝店鋪，歡迎有興趣的可以參觀參觀，下面都是實體拍照，自己驗證過的材質 ...          [日常穿搭, 穿搭]  \n",
       "10531  一個人的海底撈 好久沒吃撈撈了，以前都一群人開鍋比較便宜也可以吃比較多種，疫情的關係梅花坐 ...            [美食, 食記]  "
      ]
     },
     "metadata": {},
     "execution_count": 27
    }
   ],
   "metadata": {}
  },
  {
   "cell_type": "code",
   "execution_count": null,
   "source": [],
   "outputs": [],
   "metadata": {}
  }
 ],
 "metadata": {
  "orig_nbformat": 4,
  "language_info": {
   "name": "python",
   "version": "3.9.6",
   "mimetype": "text/x-python",
   "codemirror_mode": {
    "name": "ipython",
    "version": 3
   },
   "pygments_lexer": "ipython3",
   "nbconvert_exporter": "python",
   "file_extension": ".py"
  },
  "kernelspec": {
   "name": "python3",
   "display_name": "Python 3.9.6 64-bit ('tensorflow': conda)"
  },
  "interpreter": {
   "hash": "0729e0afaf4d65e2a91a3bdab3b4bf083879cf81e41f52fbed812722fa13cb93"
  }
 },
 "nbformat": 4,
 "nbformat_minor": 2
}