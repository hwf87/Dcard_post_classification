{
 "cells": [
  {
   "cell_type": "code",
   "execution_count": 1,
   "source": [
    "import os\n",
    "import numpy as np\n",
    "import pandas as pd\n",
    "from keras.models import load_model\n",
    "from keras_bert import get_custom_objects\n",
    "from utils import mysqlDatabase\n",
    "from myBertTools import myBertModel, myTokenizer\n",
    "from tqdm._tqdm_notebook import tqdm_notebook\n",
    "tqdm_notebook.pandas()"
   ],
   "outputs": [
    {
     "output_type": "stream",
     "name": "stdout",
     "text": [
      "Init Plugin\n",
      "Init Graph Optimizer\n",
      "Init Kernel\n"
     ]
    },
    {
     "output_type": "stream",
     "name": "stderr",
     "text": [
      "/var/folders/17/dsyzw2j96ggfgmrjcsnbtz700000gn/T/ipykernel_67941/65952826.py:8: TqdmDeprecationWarning: This function will be removed in tqdm==5.0.0\n",
      "Please use `tqdm.notebook.*` instead of `tqdm._tqdm_notebook.*`\n",
      "  from tqdm._tqdm_notebook import tqdm_notebook\n"
     ]
    }
   ],
   "metadata": {}
  },
  {
   "cell_type": "code",
   "execution_count": 2,
   "source": [
    "def single_label_predict(text):\n",
    "    text = str(text)[:100]\n",
    "    x1, x2 = MyTokenizer.encode(first=text)\n",
    "    x1, x2 = np.array([x1]), np.array([x2])\n",
    "    outcome = model.predict([x1, x2])\n",
    "    percentage = outcome.max()\n",
    "    label = label_dic[outcome.argmax()]\n",
    "    return label, percentage"
   ],
   "outputs": [],
   "metadata": {}
  },
  {
   "cell_type": "code",
   "execution_count": 3,
   "source": [
    "def multi_label_predict(text, threshold):\n",
    "    text = str(text)[:100]\n",
    "    x1, x2 = MyTokenizer.encode(first=text)\n",
    "    x1, x2 = np.array([x1]), np.array([x2])\n",
    "    outcome = model.predict([x1, x2])\n",
    "    multi_label_set = []\n",
    "    label_idx = np.where(outcome >= threshold)[1]\n",
    "    for idx in label_idx:\n",
    "        multi_label_set.append(label_dic[idx])\n",
    "    return multi_label_set"
   ],
   "outputs": [],
   "metadata": {}
  },
  {
   "cell_type": "code",
   "execution_count": 5,
   "source": [
    "if __name__ == '__main__':\n",
    "    # set parameters\n",
    "    threshold = 0.5\n",
    "    pretrained_path = '/Users/jackyfu/Desktop/hwf87_git/bert_wwm/'\n",
    "    config_path = os.path.join(pretrained_path, 'bert_config.json')\n",
    "    checkpoint_path = os.path.join(pretrained_path, 'bert_model.ckpt')\n",
    "    vocab_path = os.path.join(pretrained_path, 'vocab.txt')\n",
    "    model_path = '/Users/jackyfu/Desktop/hwf87_git/Dcard_post_classification/model_output/dcard_post_multi_cls_bert.h5'\n",
    "    dic_path = '/Users/jackyfu/Desktop/hwf87_git/Dcard_post_classification/model_output/dcard_cate_multi_label_dic.npy'\n",
    "    \n",
    "    ## Load Model\n",
    "    MyBertModel = myBertModel(pretrained_path, config_path, checkpoint_path, vocab_path)\n",
    "    token_dict = MyBertModel.get_token_dict()\n",
    "    MyTokenizer = myTokenizer(token_dict)\n",
    "    model = load_model(model_path, custom_objects=get_custom_objects())\n",
    "    label_dic = np.load(dic_path, allow_pickle=True).item()\n",
    "\n",
    "    ## predict sample\n",
    "    text = '''請益：愛你的人vs你愛的人\n",
    "    如題，小女子今年30，已婚，和先生結婚兩年了，我從大學時期就一直暗戀我先生，\n",
    "    他是我的學長，當時他原本還有一個要好的女朋友，但是被我從中作梗破壞了，\n",
    "    後來發生了一些事，總算讓我帶球嫁給了先生，但是婚後先生\n",
    "    '''\n",
    "\n",
    "    # single_label_predict\n",
    "    label, confidance = single_label_predict(text)\n",
    "    print('看板預測: ', label, ' 信心水準: ', confidance)\n",
    "\n",
    "    # multi_label_predict\n",
    "    multi_label_set = multi_label_predict(text, threshold)\n",
    "    print('predict multi-label set: ', multi_label_set)"
   ],
   "outputs": [
    {
     "output_type": "stream",
     "name": "stderr",
     "text": [
      "2021-09-07 10:28:27.732890: I tensorflow/core/grappler/optimizers/custom_graph_optimizer_registry.cc:112] Plugin optimizer for device_type GPU is enabled.\n"
     ]
    },
    {
     "output_type": "stream",
     "name": "stdout",
     "text": [
      "看板預測:  感情  信心水準:  0.95985556\n",
      "predict multi-label set:  ['感情']\n"
     ]
    }
   ],
   "metadata": {}
  },
  {
   "cell_type": "markdown",
   "source": [
    "## Performance testing"
   ],
   "metadata": {}
  },
  {
   "cell_type": "code",
   "execution_count": 6,
   "source": [
    "import yaml\n",
    "with open('config.yml', 'r') as stream:\n",
    "        myconfig = yaml.load(stream, Loader=yaml.CLoader)\n",
    "database_username = myconfig['mysql_database']['database_username']\n",
    "database_password = myconfig['mysql_database']['database_password']\n",
    "database_ip       = myconfig['mysql_database']['database_ip']\n",
    "database_name     = myconfig['mysql_database']['database_name']\n",
    "MysqlDatabase = mysqlDatabase(database_username, database_password, database_ip, database_name)"
   ],
   "outputs": [],
   "metadata": {}
  },
  {
   "cell_type": "code",
   "execution_count": 8,
   "source": [
    "sql = '''\n",
    "SELECT df.name forums_name, dp.*\n",
    "FROM Bigdata.dcard_posts dp\n",
    "left join Bigdata.dcard_forums df on dp.forumid = df.id\n",
    "WHERE 1=1\n",
    "'''\n",
    "df = MysqlDatabase.select_table(sql)"
   ],
   "outputs": [
    {
     "output_type": "stream",
     "name": "stdout",
     "text": [
      "Successfully select from Bigdata table\n"
     ]
    }
   ],
   "metadata": {}
  },
  {
   "cell_type": "code",
   "execution_count": 9,
   "source": [
    "df['text'] = df['title'] + ' ' + df['excerpt'] + ' ' + df['topics']\n",
    "df_test = df[df.createdAt >= '2021-09-06'][['forums_name', 'id', 'title', 'excerpt', 'topics', 'text']]\n",
    "threshold = 0.5\n",
    "df_test['predict_forums_name'] = df_test['text'].progress_apply(multi_label_predict, args=(threshold, ))"
   ],
   "outputs": [
    {
     "output_type": "display_data",
     "data": {
      "application/vnd.jupyter.widget-view+json": {
       "version_major": 2,
       "version_minor": 0,
       "model_id": "d96fef65b17a480abdc5bc20e8fd424f"
      },
      "text/plain": [
       "  0%|          | 0/879 [00:00<?, ?it/s]"
      ]
     },
     "metadata": {}
    },
    {
     "output_type": "stream",
     "name": "stderr",
     "text": [
      "2021-09-07 10:30:10.542492: I tensorflow/core/grappler/optimizers/custom_graph_optimizer_registry.cc:112] Plugin optimizer for device_type GPU is enabled.\n",
      "2021-09-07 10:30:12.265887: I tensorflow/core/grappler/optimizers/custom_graph_optimizer_registry.cc:112] Plugin optimizer for device_type GPU is enabled.\n"
     ]
    }
   ],
   "metadata": {}
  },
  {
   "cell_type": "code",
   "execution_count": 10,
   "source": [
    "import xlsxwriter\n",
    "df_test.to_excel('sample_output.xlsx', engine='xlsxwriter', index=False)"
   ],
   "outputs": [],
   "metadata": {}
  },
  {
   "cell_type": "code",
   "execution_count": null,
   "source": [],
   "outputs": [],
   "metadata": {}
  }
 ],
 "metadata": {
  "orig_nbformat": 4,
  "language_info": {
   "name": "python",
   "version": "3.9.6",
   "mimetype": "text/x-python",
   "codemirror_mode": {
    "name": "ipython",
    "version": 3
   },
   "pygments_lexer": "ipython3",
   "nbconvert_exporter": "python",
   "file_extension": ".py"
  },
  "kernelspec": {
   "name": "python3",
   "display_name": "Python 3.9.6 64-bit ('tensorflow': conda)"
  },
  "interpreter": {
   "hash": "0729e0afaf4d65e2a91a3bdab3b4bf083879cf81e41f52fbed812722fa13cb93"
  }
 },
 "nbformat": 4,
 "nbformat_minor": 2
}