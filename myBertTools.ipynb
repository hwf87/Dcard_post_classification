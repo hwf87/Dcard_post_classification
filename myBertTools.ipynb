{
 "cells": [
  {
   "cell_type": "code",
   "execution_count": 1,
   "source": [
    "import os\n",
    "import codecs\n",
    "import tensorflow as tf\n",
    "import keras_bert\n",
    "from keras.layers import *\n",
    "from keras.models import Model\n",
    "import keras.backend as K\n",
    "from tensorflow.keras.optimizers import Adam\n",
    "from keras_bert import load_trained_model_from_checkpoint, Tokenizer\n",
    "from keras_bert.loader import load_trained_model_from_checkpoint\n",
    "from keras_bert.bert import *\n",
    "from keras.utils.vis_utils import plot_model"
   ],
   "outputs": [
    {
     "output_type": "stream",
     "name": "stdout",
     "text": [
      "Init Plugin\n",
      "Init Graph Optimizer\n",
      "Init Kernel\n"
     ]
    }
   ],
   "metadata": {}
  },
  {
   "cell_type": "code",
   "execution_count": null,
   "source": [
    "class myBertModel():\n",
    "    def __init__(self, pretrained_path, config_path, checkpoint_path, vocab_path, output_path, maxlen):\n",
    "        self.pretrained_path = pretrained_path\n",
    "        self.config_path = config_path\n",
    "        self.checkpoint_path = checkpoint_path\n",
    "        self.vocab_path = vocab_path\n",
    "        self.output_path = output_path\n",
    "        self.maxlen = maxlen\n",
    "    def get_token_dict(self):\n",
    "        token_dict = {}\n",
    "        with codecs.open(vocab_path, 'r', 'utf8') as reader:\n",
    "            for line in reader:\n",
    "                token = line.strip()\n",
    "                token_dict[token] = len(token_dict)\n",
    "        return token_dict\n",
    "    def build_model(self):\n",
    "        bert_model = load_trained_model_from_checkpoint(config_path, checkpoint_path, seq_len=None)\n",
    "\n",
    "        for l in bert_model.layers:\n",
    "            l.trainable = True\n",
    "\n",
    "        x1_in = Input(shape=(None,))\n",
    "        x2_in = Input(shape=(None,))\n",
    "        x = bert_model([x1_in, x2_in])\n",
    "        x = Lambda(lambda x: x[:, 0])(x)\n",
    "        p = Dense(Y_df.shape[1], activation='sigmoid')(x)\n",
    "\n",
    "        model = Model([x1_in, x2_in], p)\n",
    "        model.compile(\n",
    "            loss='binary_crossentropy',\n",
    "            optimizer=Adam(1e-5), # 用足够小的学习率\n",
    "            metrics=['accuracy']\n",
    "        )\n",
    "        # model.summary()\n",
    "        return model"
   ],
   "outputs": [],
   "metadata": {}
  },
  {
   "cell_type": "code",
   "execution_count": null,
   "source": [
    "class myTokenizer(Tokenizer):\n",
    "    def _tokenize(self, text):\n",
    "        R = []\n",
    "        for c in text:\n",
    "            if c in self._token_dict:\n",
    "                R.append(c)\n",
    "            elif self._is_space(c):\n",
    "                R.append('[unused1]')\n",
    "            else:\n",
    "                R.append('[UNK]')\n",
    "        return R"
   ],
   "outputs": [],
   "metadata": {}
  }
 ],
 "metadata": {
  "orig_nbformat": 4,
  "language_info": {
   "name": "python",
   "version": "3.9.6",
   "mimetype": "text/x-python",
   "codemirror_mode": {
    "name": "ipython",
    "version": 3
   },
   "pygments_lexer": "ipython3",
   "nbconvert_exporter": "python",
   "file_extension": ".py"
  },
  "kernelspec": {
   "name": "python3",
   "display_name": "Python 3.9.6 64-bit ('tensorflow': conda)"
  },
  "interpreter": {
   "hash": "0729e0afaf4d65e2a91a3bdab3b4bf083879cf81e41f52fbed812722fa13cb93"
  }
 },
 "nbformat": 4,
 "nbformat_minor": 2
}